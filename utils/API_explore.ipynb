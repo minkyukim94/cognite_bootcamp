{
 "cells": [
  {
   "cell_type": "code",
   "execution_count": 7,
   "metadata": {},
   "outputs": [
    {
     "name": "stderr",
     "output_type": "stream",
     "text": [
      "c:\\Users\\Minkyu.Kim\\AppData\\Local\\Programs\\Python\\Python312\\Lib\\site-packages\\urllib3\\connectionpool.py:1099: InsecureRequestWarning: Unverified HTTPS request is being made to host 'ice-cream-factory.inso-internal.cognite.ai'. Adding certificate verification is strongly advised. See: https://urllib3.readthedocs.io/en/latest/advanced-usage.html#tls-warnings\n",
      "  warnings.warn(\n"
     ]
    },
    {
     "name": "stdout",
     "output_type": "stream",
     "text": [
      "the number of cities are: len(data)\n"
     ]
    }
   ],
   "source": [
    "# Q1\n",
    "\n",
    "import json\n",
    "import requests\n",
    "\n",
    "# Define the URL of the REST API\n",
    "base_url = \"https://ice-cream-factory.inso-internal.cognite.ai/\"\n",
    "endpoint = \"site/all\"  # Specify the endpoint you want to access\n",
    "\n",
    "# Make the request to the API\n",
    "response = requests.get(base_url + endpoint, verify=False)\n",
    "\n",
    "\n",
    "data = response.json()\n",
    "\n",
    "print(f\"the number of cities are: len(data)\")"
   ]
  },
  {
   "cell_type": "code",
   "execution_count": 19,
   "metadata": {},
   "outputs": [
    {
     "name": "stdout",
     "output_type": "stream",
     "text": [
      "{'name': 'Oslo', 'external_id': 'oslo', 'description': 'Site in Oslo, Norway', 'labels': ['isa95:site'], 'metadata': {'site': 'Oslo', 'country': 'Norway', 'size': 'sm', 'src': 'sap'}}\n",
      "{'parent_external_id': 'oslo', 'external_id': 'oslo_cold_store', 'name': 'Cold Store', 'labels': ['isa95:area'], 'metadata': {'Max temperature': '-25 degrees', 'Max capability': '4000L', 'site': 'Oslo', 'src': 'sap', 'type': 'cold_store'}}\n",
      "{'parent_external_id': 'oslo', 'external_id': 'oslo_product', 'name': 'Product', 'labels': ['isa95:area'], 'metadata': {'site': 'Oslo', 'src': 'sap', 'type': 'product'}}\n",
      "{'parent_external_id': 'oslo_product', 'external_id': 'OPRM137', 'name': 'Raw materials', 'labels': ['isa95:unit'], 'metadata': {'cycle time': '3 s', 'site': 'Oslo', 'src': 'sap', 'type': 'raw_materials'}}\n",
      "{'parent_external_id': 'oslo_product', 'external_id': 'OPFG978', 'name': 'Finished goods', 'labels': ['isa95:unit'], 'metadata': {'cycle time': '3 s', 'site': 'Oslo', 'src': 'sap', 'type': 'finished_goods'}}\n",
      "{'parent_external_id': 'oslo', 'external_id': 'oslo_receiving_and_raw', 'name': 'Receiving & Raw Materials', 'labels': ['isa95:area'], 'metadata': {'site': 'Oslo', 'src': 'sap', 'type': 'receiving_&_raw_materials'}}\n",
      "{'parent_external_id': 'oslo_receiving_and_raw', 'external_id': 'oslo_receiving_and_raw_liquid_storage', 'name': 'Liquid Storage', 'labels': ['isa95:storage_zone'], 'metadata': {'Inventory size': '8000L', 'site': 'Oslo', 'src': 'sap', 'type': 'liquid_storage'}}\n",
      "{'parent_external_id': 'oslo_receiving_and_raw', 'external_id': 'oslo_receiving_and_raw_dry_storage', 'name': 'Dry Storage', 'labels': ['isa95:storage_zone'], 'metadata': {'Inventory size': '25x50', 'Temperature': '1-7 degrees', 'site': 'Oslo', 'src': 'sap', 'type': 'dry_storage'}}\n",
      "{'parent_external_id': 'oslo', 'external_id': 'oslo_production', 'name': 'Production', 'labels': ['isa95:area'], 'metadata': {'site': 'Oslo', 'src': 'sap', 'type': 'production'}}\n",
      "{'parent_external_id': 'oslo_production', 'external_id': 'oslo_production_mix', 'name': 'Pre-Heating and Mixing', 'labels': ['isa95:process_cell'], 'metadata': {'site': 'Oslo', 'src': 'sap', 'type': 'pre-heating_and_mixing'}}\n",
      "{'parent_external_id': 'oslo_production_mix', 'external_id': 'OPMT243', 'name': 'Mix Tank', 'labels': ['isa95:unit', 'function:mix'], 'metadata': {'cycle time': '3 s', 'site': 'Oslo', 'src': 'sap', 'type': 'mix_tank'}}\n",
      "{'parent_external_id': 'oslo_production', 'external_id': 'oslo_production_fill', 'name': 'Filling Line', 'labels': ['isa95:production_line'], 'metadata': {'Connections': '3 ~ 400 V, 50-60 Hz', 'Total consumption': 'Depending on filler setup', 'Main breaker': '50 A', 'Supply pressure': '6 bar', 'Total consumption VN': 'Depending on filler setup', 'Consumption (during cleaning)': '50 l/min', 'site': 'Oslo', 'src': 'sap', 'type': 'filling_line'}}\n",
      "{'parent_external_id': 'oslo_production_fill', 'external_id': 'OPFWT265', 'name': 'Wet Topping', 'labels': ['isa95:unit', 'function:topping'], 'metadata': {'cycle time': '3 s', 'site': 'Oslo', 'src': 'sap', 'type': 'wet_topping'}}\n",
      "{'parent_external_id': 'oslo_production_fill', 'external_id': 'OPFC370', 'name': 'Crimping', 'labels': ['isa95:unit', 'function:crimp'], 'metadata': {'cycle time': '3 s', 'site': 'Oslo', 'src': 'sap', 'type': 'crimping'}}\n",
      "{'parent_external_id': 'oslo_production_fill', 'external_id': 'OPFSD585', 'name': 'Sleeve Dispensing', 'labels': ['function:sleeveDispense', 'isa95:unit'], 'metadata': {'cycle time': '3 s', 'site': 'Oslo', 'src': 'sap', 'type': 'sleeve_dispensing'}}\n",
      "{'parent_external_id': 'oslo_production_fill', 'external_id': 'OPFTS185', 'name': 'Transfer System', 'labels': ['isa95:unit', 'function:transfer'], 'metadata': {'cycle time': '3 s', 'site': 'Oslo', 'src': 'sap', 'type': 'transfer_system'}}\n",
      "{'parent_external_id': 'oslo_production_fill', 'external_id': 'OPFFV485', 'name': 'Filling Valves', 'labels': ['isa95:unit', 'function:fill'], 'metadata': {'cycle time': '3 s', 'site': 'Oslo', 'src': 'sap', 'type': 'filling_valves'}}\n",
      "{'parent_external_id': 'oslo_production_fill', 'external_id': 'OPFDT109', 'name': 'Dry Topping', 'labels': ['isa95:unit', 'function:applyTopping'], 'metadata': {'cycle time': '3 s', 'site': 'Oslo', 'src': 'sap', 'type': 'dry_topping'}}\n",
      "{'parent_external_id': 'oslo_production_fill', 'external_id': 'OPFW693', 'name': 'Wrapping', 'labels': ['isa95:unit', 'function:wrap'], 'metadata': {'Machine type': 'rotary', 'Output, bricks/min': 'up to 50', 'The dosing interval, ml1': '135-240', 'The dosing accuracy, % ': '± 6', 'Block size, mm2': '100x60x35÷40', 'Wrapping material': 'parchment paper, aluminum foil laminate', 'Roll width, mm': '180-210', 'Roll external diameter, mm up to': '400', 'Roll core internal diameter, mm': '60-70', 'Rated power input, kVA': '4,5', 'Voltage, V': '230/400 +-10% AC', 'Frequency, Hz': '50/60', 'Dimensions (L x W x H), mm': '3170 x 1470 x 1540', 'Weight, kg': '1450', 'cycle time': '3 s', 'site': 'Oslo', 'src': 'sap', 'type': 'wrapping'}}\n",
      "{'parent_external_id': 'oslo_production_fill', 'external_id': 'OPFC927', 'name': 'Cartoning', 'labels': ['isa95:unit', 'function:carton'], 'metadata': {'Model': 'SA-380CDF', 'Film width': 'Max. 300 mm', 'Box length': '120 - 400 mm', 'Box width': '50 - 200 mm', 'Packing speed': 'max 80 boxes/min', 'Power': '220V 50/60HZ 2.6KW', 'Machine dimensions': '3770x720x1450', 'Machine weight': '600kg', 'cycle time': '3 s', 'site': 'Oslo', 'src': 'sap', 'type': 'cartoning'}}\n",
      "{'parent_external_id': 'oslo_production_fill', 'external_id': 'OPFLD988', 'name': 'Lid Dispensing', 'labels': ['isa95:unit', 'function:dispense'], 'metadata': {'cycle time': '3 s', 'site': 'Oslo', 'src': 'sap', 'type': 'lid_dispensing'}}\n",
      "{'parent_external_id': 'oslo_production_fill', 'external_id': 'OPFCS463', 'name': 'Chocolate Spray', 'labels': ['isa95:unit', 'function:coatSpray'], 'metadata': {'cycle time': '3 s', 'site': 'Oslo', 'src': 'sap', 'type': 'chocolate_spray'}}\n",
      "{'parent_external_id': 'oslo_production_fill', 'external_id': 'OPFCD474', 'name': 'Cone Dispensing', 'labels': ['function:dispenseCone', 'isa95:unit'], 'metadata': {'cycle time': '3 s', 'site': 'Oslo', 'src': 'sap', 'type': 'cone_dispensing'}}\n",
      "{'parent_external_id': 'oslo_production_fill', 'external_id': 'OPFC534', 'name': 'Coding', 'labels': ['isa95:unit', 'function:coding'], 'metadata': {'cycle time': '3 s', 'site': 'Oslo', 'src': 'sap', 'type': 'coding'}}\n",
      "{'parent_external_id': 'oslo_production', 'external_id': 'oslo_production_pasteur', 'name': 'Pasteurization and Homogenization', 'labels': ['isa95:process_cell'], 'metadata': {'Function': ' Ice cream batch process mix plant', 'Year of manufacture': ' 1996', 'Capacity': '500 litres/per hour', 'Electrics': ' 380V/3 Phase/50 Hz', 'Overall installed power': '10,7 kW', 'Length': '395 cm', 'Width': '150 cm', 'Height': '210 cm', 'Weight': '2,150 kgs', 'site': 'Oslo', 'src': 'sap', 'type': 'pasteurization_and_homogenization'}}\n",
      "{'parent_external_id': 'oslo_production_pasteur', 'external_id': 'OPPT241', 'name': 'Balance Tank', 'labels': ['isa95:unit', 'function:balanceTank'], 'metadata': {'cycle time': '3 s', 'site': 'Oslo', 'src': 'sap', 'type': 'balance_tank'}}\n",
      "{'parent_external_id': 'oslo_production_pasteur', 'external_id': 'OPPHE637', 'name': 'Plate Heat Exchanger', 'labels': ['isa95:unit', 'function:heatExchange'], 'metadata': {'cycle time': '3 s', 'site': 'Oslo', 'src': 'sap', 'type': 'plate_heat_exchanger'}}\n",
      "{'parent_external_id': 'oslo_production', 'external_id': 'oslo_production_age', 'name': 'Aging', 'labels': ['isa95:process_cell'], 'metadata': {'site': 'Oslo', 'src': 'sap', 'type': 'aging'}}\n",
      "{'parent_external_id': 'oslo_production_age', 'external_id': 'OPAT812', 'name': 'Aging Tank', 'labels': ['isa95:unit', 'function:aging'], 'metadata': {'Function': 'Ageing Vat', 'Capacity': '2,400 Litres', 'Year of manufacture': '2012', 'material': 'Stainless steel', 'Diameter': '170 cms', 'Height': '210 cms', 'Weight': '500 kgs', 'cycle time': '3 s', 'site': 'Oslo', 'src': 'sap', 'type': 'aging_tank'}}\n",
      "{'parent_external_id': 'oslo_production', 'external_id': 'oslo_production_mould', 'name': 'Moulding Line', 'labels': ['isa95:production_line'], 'metadata': {'Mould strip indexing': '2.9 kW (3.8 HP)', 'Extractor index servo': '2.9 kW (3.8 HP)', 'Extraction of products': '1.9 kW (2.5 HP)', 'Servo chocolate dip': '1.9 kW (2.5 HP)', 'Lay-down servo': '1.9 kW (2.5 HP)', 'Total electrical consumption': '20 KW', 'Brine internal circulation': '7.5 KW', 'Brine external circulation': '11.0 KW', 'Optional: brine circulation pump': '22.0 KW', 'Power voltage standard': '3 x 400 V', 'Change of voltage ≤': '10 %', 'Typical operation load': '180 Amps', 'Main circuit breaker': '250 Amps', 'Recommended supply breaker': '300 Amps', 'site': 'Oslo', 'src': 'sap', 'type': 'moulding_line'}}\n",
      "{'parent_external_id': 'oslo_production_mould', 'external_id': 'OPMBFS561', 'name': 'Brine Flow System', 'labels': ['isa95:unit', 'function:brineTransport'], 'metadata': {'cycle time': '3 s', 'site': 'Oslo', 'src': 'sap', 'type': 'brine_flow_system'}}\n",
      "{'parent_external_id': 'oslo_production_mould', 'external_id': 'OPMC079', 'name': 'Chocolate Coating', 'labels': ['isa95:unit', 'function:coat'], 'metadata': {'cycle time': '3 s', 'site': 'Oslo', 'src': 'sap', 'type': 'chocolate_coating'}}\n",
      "{'parent_external_id': 'oslo_production_mould', 'external_id': 'OPME012', 'name': 'Extractor, Dipping and Lay-off', 'labels': ['isa95:unit', 'function:extractDryLayoff'], 'metadata': {'cycle time': '3 s', 'site': 'Oslo', 'src': 'sap', 'type': 'extractor,_dipping_and_lay-off'}}\n",
      "{'parent_external_id': 'oslo_production_mould', 'external_id': 'OPMVF765', 'name': 'Volumetric Filler', 'labels': ['isa95:unit', 'function:volumetricFill'], 'metadata': {'cycle time': '3 s', 'site': 'Oslo', 'src': 'sap', 'type': 'volumetric_filler'}}\n",
      "{'parent_external_id': 'oslo_production_mould', 'external_id': 'OPMW541', 'name': 'Wrapping', 'labels': ['isa95:unit', 'function:wrap'], 'metadata': {'Machine type': 'rotary', 'Output, bricks/min': 'up to 50', 'The dosing interval, ml1': '135-240', 'The dosing accuracy, % ': '± 6', 'Block size, mm2': '100x60x35÷40', 'Wrapping material': 'parchment paper, aluminum foil laminate', 'Roll width, mm': '180-210', 'Roll external diameter, mm up to': '400', 'Roll core internal diameter, mm': '60-70', 'Rated power input, kVA': '4,5', 'Voltage, V': '230/400 +-10% AC', 'Frequency, Hz': '50/60', 'Dimensions (L x W x H), mm': '3170 x 1470 x 1540', 'Weight, kg': '1450', 'cycle time': '3 s', 'site': 'Oslo', 'src': 'sap', 'type': 'wrapping'}}\n",
      "{'parent_external_id': 'oslo_production_mould', 'external_id': 'OPMBT115', 'name': 'Brine Tank', 'labels': ['function:brineStore', 'isa95:unit'], 'metadata': {'cycle time': '3 s', 'site': 'Oslo', 'src': 'sap', 'type': 'brine_tank'}}\n",
      "{'parent_external_id': 'oslo_production_mould', 'external_id': 'OPMC561', 'name': 'Cartoning', 'labels': ['isa95:unit', 'function:carton'], 'metadata': {'Model': 'SA-380CDF', 'Film width': 'Max. 300 mm', 'Box length': '120 - 400 mm', 'Box width': '50 - 200 mm', 'Packing speed': 'max 80 boxes/min', 'Power': '220V 50/60HZ 2.6KW', 'Machine dimensions': '3770x720x1450', 'Machine weight': '600kg', 'cycle time': '3 s', 'site': 'Oslo', 'src': 'sap', 'type': 'cartoning'}}\n",
      "{'parent_external_id': 'oslo_production_mould', 'external_id': 'OPMD584', 'name': 'Main Drive, Indexing Chain Conveyor', 'labels': ['function:transportConveyor', 'isa95:unit'], 'metadata': {'cycle time': '3 s', 'site': 'Oslo', 'src': 'sap', 'type': 'main_drive,_indexing_chain_conveyor'}}\n",
      "{'parent_external_id': 'oslo_production_mould', 'external_id': 'OPMDS552', 'name': 'Defroster System', 'labels': ['function:defrost', 'isa95:unit'], 'metadata': {'cycle time': '3 s', 'site': 'Oslo', 'src': 'sap', 'type': 'defroster_system'}}\n",
      "{'parent_external_id': 'oslo_production_mould', 'external_id': 'OPMSI664', 'name': 'Stick Inserter', 'labels': ['isa95:unit', 'function:insertStick'], 'metadata': {'cycle time': '3 s', 'site': 'Oslo', 'src': 'sap', 'type': 'stick_inserter'}}\n",
      "{'parent_external_id': 'oslo_production', 'external_id': 'oslo_production_fri', 'name': 'Freezing and Ingredient Feeding', 'labels': ['isa95:process_cell', 'isa95:production_line'], 'metadata': {'site': 'Oslo', 'src': 'sap', 'type': 'freezing_and_ingredient_feeding'}}\n",
      "{'parent_external_id': 'oslo_production_fri', 'external_id': 'OPFD232', 'name': 'Ingredient Doser', 'labels': ['isa95:unit', 'function:dosing'], 'metadata': {'Throughput of ingredients:': '10 to 200 litres/hour', 'Product flow:': '100 to 2,000 litres/hour', 'Maximum ingredient size:': '12 mm', 'cycle time': '3 s', 'site': 'Oslo', 'src': 'sap', 'type': 'ingredient_doser'}}\n",
      "{'parent_external_id': 'OPFD232', 'external_id': 'OPFD232_lamella_pump', 'name': 'Lamella Pump', 'labels': ['isa95:equipment_module'], 'metadata': {'site': 'Oslo', 'src': 'sap', 'type': 'lamella_pump'}}\n",
      "{'parent_external_id': 'OPFD232', 'external_id': 'OPFD232_funnel', 'name': 'Funnel', 'labels': ['isa95:equipment_module'], 'metadata': {'site': 'Oslo', 'src': 'sap', 'type': 'funnel'}}\n",
      "{'parent_external_id': 'OPFD232', 'external_id': 'OPFD232_inline_mixer', 'name': 'In-line Mixer', 'labels': ['isa95:equipment_module'], 'metadata': {'site': 'Oslo', 'src': 'sap', 'type': 'in-line_mixer'}}\n",
      "{'parent_external_id': 'OPFD232', 'external_id': 'OPFD232_feed', 'name': 'Ice Cream Feed', 'labels': ['isa95:equipment_module'], 'metadata': {'site': 'Oslo', 'src': 'sap', 'type': 'ice_cream_feed'}}\n",
      "{'parent_external_id': 'oslo_production_fri', 'external_id': 'OPFCF331', 'name': 'Continuous Freezer', 'labels': ['function:continuousFreeze', 'isa95:unit'], 'metadata': {'Suction line, outside diameter': '76.1 mm', 'Liquid line, outside diameter': '21.3 mm', 'Hot gas line, outside diameter': '21.3 mm', 'Drain line, outside diameter': '21.3 mm', 'Safety line, outside diameter': '33.7 mm', 'Mix inlet piping, outside diameter': '38.1 mm', 'Ice cream outlet piping,': 'outside', 'diameter': '63.5 mm', 'cycle time': '3 s', 'site': 'Oslo', 'src': 'sap', 'type': 'continuous_freezer'}}\n",
      "{'parent_external_id': 'OPFCF331', 'external_id': 'OPFCF331_gear_pump_02', 'name': 'Gear Pump 02', 'labels': ['isa95:equipment_module'], 'metadata': {'site': 'Oslo', 'src': 'sap', 'type': 'gear_pump_02'}}\n",
      "{'parent_external_id': 'OPFCF331', 'external_id': 'OPFCF331_compressor', 'name': 'Compressor', 'labels': ['isa95:equipment_module', 'function:compressor'], 'metadata': {'Rating': '11bar', 'site': 'Oslo', 'src': 'sap', 'type': 'compressor'}}\n",
      "{'parent_external_id': 'OPFCF331', 'external_id': 'OPFCF331_air_pump', 'name': 'Air Pump', 'labels': ['isa95:equipment_module'], 'metadata': {'site': 'Oslo', 'src': 'sap', 'type': 'air_pump'}}\n",
      "{'parent_external_id': 'OPFCF331', 'external_id': 'OPFCF331_cylinder', 'name': 'Freezing Cylinder', 'labels': ['isa95:equipment_module'], 'metadata': {'site': 'Oslo', 'src': 'sap', 'type': 'freezing_cylinder'}}\n",
      "{'parent_external_id': 'OPFCF331', 'external_id': 'OPFCF331_gear_pump_01', 'name': 'Gear Pump 01', 'labels': ['isa95:equipment_module'], 'metadata': {'site': 'Oslo', 'src': 'sap', 'type': 'gear_pump_01'}}\n",
      "{'parent_external_id': 'oslo_production', 'external_id': 'oslo_production_extrude', 'name': 'Extrusion Line', 'labels': ['isa95:production_line'], 'metadata': {'site': 'Oslo', 'src': 'sap', 'type': 'extrusion_line'}}\n",
      "{'parent_external_id': 'oslo_production_extrude', 'external_id': 'OPEC386', 'name': 'Cartoning', 'labels': ['isa95:unit', 'function:carton'], 'metadata': {'Model': 'SA-380CDF', 'Film width': 'Max. 300 mm', 'Box length': '120 - 400 mm', 'Box width': '50 - 200 mm', 'Packing speed': 'max 80 boxes/min', 'Power': '220V 50/60HZ 2.6KW', 'Machine dimensions': '3770x720x1450', 'Machine weight': '600kg', 'cycle time': '3 s', 'site': 'Oslo', 'src': 'sap', 'type': 'cartoning'}}\n",
      "{'parent_external_id': 'oslo_production_extrude', 'external_id': 'OPEW168', 'name': 'Worktable', 'labels': ['isa95:unit', 'function:worktableTransport'], 'metadata': {'cycle time': '3 s', 'site': 'Oslo', 'src': 'sap', 'type': 'worktable'}}\n",
      "{'parent_external_id': 'OPEW168', 'external_id': 'OPEWOTTE981', 'name': 'Tray Tunnel Extruder', 'labels': ['isa95:unit', 'function:tunnelExtrude'], 'metadata': {'No. of sprockets / vertical pitch ( mm (inch) )': '9 / 180 (7)', 'Conveyor pitch ( mm (inch) )': '50 (2)', 'Tray dimension ( mm (inch) )': '300 x 345 (11.8 x 13.6)', 'Total number of trays / inside tunnel': '839/ 802', 'Total installed power (incl. fans) (kW (HP))': '25 (33)', 'cycle time': '3 s', 'site': 'Oslo', 'src': 'sap', 'type': 'tray_tunnel_extruder'}}\n",
      "{'parent_external_id': 'oslo_production_extrude', 'external_id': 'OPEW729', 'name': 'Wrapping', 'labels': ['isa95:unit', 'function:wrap'], 'metadata': {'Machine type': 'rotary', 'Output, bricks/min': 'up to 50', 'The dosing interval, ml1': '135-240', 'The dosing accuracy, % ': '± 6', 'Block size, mm2': '100x60x35÷40', 'Wrapping material': 'parchment paper, aluminum foil laminate', 'Roll width, mm': '180-210', 'Roll external diameter, mm up to': '400', 'Roll core internal diameter, mm': '60-70', 'Rated power input, kVA': '4,5', 'Voltage, V': '230/400 +-10% AC', 'Frequency, Hz': '50/60', 'Dimensions (L x W x H), mm': '3170 x 1470 x 1540', 'Weight, kg': '1450', 'cycle time': '3 s', 'site': 'Oslo', 'src': 'sap', 'type': 'wrapping'}}\n",
      "{'parent_external_id': 'oslo_production_extrude', 'external_id': 'OPEHT947', 'name': 'Hardening Tunnel', 'labels': ['function:hardening', 'isa95:unit'], 'metadata': {'Panel house thickness of polyurethane panels ( mm (inch) )': '125 (4.9)', 'Container house thickness of polyurethane panels ( mm (inch) )': '120 (4.7)', 'cycle time': '3 s', 'site': 'Oslo', 'src': 'sap', 'type': 'hardening_tunnel'}}\n"
     ]
    }
   ],
   "source": [
    "for i in data:\n",
    "    print(i)"
   ]
  },
  {
   "cell_type": "code",
   "execution_count": 15,
   "metadata": {},
   "outputs": [
    {
     "name": "stderr",
     "output_type": "stream",
     "text": [
      "c:\\Users\\Minkyu.Kim\\AppData\\Local\\Programs\\Python\\Python312\\Lib\\site-packages\\urllib3\\connectionpool.py:1099: InsecureRequestWarning: Unverified HTTPS request is being made to host 'ice-cream-factory.inso-internal.cognite.ai'. Adding certificate verification is strongly advised. See: https://urllib3.readthedocs.io/en/latest/advanced-usage.html#tls-warnings\n",
      "  warnings.warn(\n"
     ]
    },
    {
     "data": {
      "text/plain": [
       "57"
      ]
     },
     "execution_count": 15,
     "metadata": {},
     "output_type": "execute_result"
    }
   ],
   "source": [
    "# Q2 \n",
    "response = requests.get(base_url + \"site/oslo\", verify=False)\n",
    "data = response.json()\n",
    "\n",
    "\n",
    "child_items = [item for item in data if \"parent_external_id\" in item]\n",
    "len(child_items)"
   ]
  },
  {
   "cell_type": "code",
   "execution_count": 26,
   "metadata": {},
   "outputs": [
    {
     "name": "stderr",
     "output_type": "stream",
     "text": [
      "c:\\Users\\Minkyu.Kim\\AppData\\Local\\Programs\\Python\\Python312\\Lib\\site-packages\\urllib3\\connectionpool.py:1099: InsecureRequestWarning: Unverified HTTPS request is being made to host 'ice-cream-factory.inso-internal.cognite.ai'. Adding certificate verification is strongly advised. See: https://urllib3.readthedocs.io/en/latest/advanced-usage.html#tls-warnings\n",
      "  warnings.warn(\n"
     ]
    },
    {
     "data": {
      "text/plain": [
       "{'count', 'good', 'planned_status', 'status'}"
      ]
     },
     "execution_count": 26,
     "metadata": {},
     "output_type": "execute_result"
    }
   ],
   "source": [
    "#Q3\n",
    "\n",
    "response = requests.get(base_url + \"timeseries/oee\", verify=False)\n",
    "data = response.json()\n",
    "\n",
    "all_types = []\n",
    "for i in data:\n",
    "    type = i['metadata']['type']\n",
    "    all_types.append(type)\n",
    "set(all_types)"
   ]
  },
  {
   "cell_type": "code",
   "execution_count": 43,
   "metadata": {},
   "outputs": [
    {
     "name": "stderr",
     "output_type": "stream",
     "text": [
      "c:\\Users\\Minkyu.Kim\\AppData\\Local\\Programs\\Python\\Python312\\Lib\\site-packages\\urllib3\\connectionpool.py:1099: InsecureRequestWarning: Unverified HTTPS request is being made to host 'ice-cream-factory.inso-internal.cognite.ai'. Adding certificate verification is strongly advised. See: https://urllib3.readthedocs.io/en/latest/advanced-usage.html#tls-warnings\n",
      "  warnings.warn(\n"
     ]
    }
   ],
   "source": [
    "import json\n",
    "import requests\n",
    "import pandas as pd\n",
    "\n",
    "response = requests.get(\"https://ice-cream-factory.inso-internal.cognite.ai/site/oslo\", verify=False)\n",
    "data = response.json()\n",
    "\n",
    "df = pd.DataFrame(data)\n",
    "df = df.head()\n",
    "df.to_csv(\"oslo_short.csv\")"
   ]
  }
 ],
 "metadata": {
  "kernelspec": {
   "display_name": "Python 3",
   "language": "python",
   "name": "python3"
  },
  "language_info": {
   "codemirror_mode": {
    "name": "ipython",
    "version": 3
   },
   "file_extension": ".py",
   "mimetype": "text/x-python",
   "name": "python",
   "nbconvert_exporter": "python",
   "pygments_lexer": "ipython3",
   "version": "3.12.0"
  }
 },
 "nbformat": 4,
 "nbformat_minor": 2
}
